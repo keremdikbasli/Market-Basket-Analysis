{
  "metadata": {
    "language_info": {
      "name": ""
    },
    "kernelspec": {
      "name": "python",
      "display_name": "Python (Pyodide)",
      "language": "python"
    }
  },
  "nbformat_minor": 4,
  "nbformat": 4,
  "cells": [
    {
      "cell_type": "code",
      "source": "import numpy as np\nimport pandas as pd\nimport matplotlib.pyplot as plt\nfrom apyori import apriori",
      "metadata": {
        "trusted": true
      },
      "execution_count": null,
      "outputs": []
    },
    {
      "cell_type": "code",
      "source": "store_data = pd.read_csv(\"store_data.csv\", header=None)\ndisplay(store_data.head())\nprint(store_data.shape)",
      "metadata": {
        "trusted": true
      },
      "execution_count": null,
      "outputs": []
    },
    {
      "cell_type": "code",
      "source": "records = []\nfor i in range(1, 7501):\n    records.append([str(store_data.values[i, j]) for j in range(0, 20)])\n",
      "metadata": {
        "trusted": true
      },
      "execution_count": null,
      "outputs": []
    },
    {
      "cell_type": "code",
      "source": "print(type(records))",
      "metadata": {},
      "execution_count": null,
      "outputs": []
    },
    {
      "cell_type": "code",
      "source": "association_rules = apriori(records, min_support=0.0045, min_confidence=0.2, min_lift=3, min_length=2)\nassociation_results = list(association_rules)",
      "metadata": {},
      "execution_count": null,
      "outputs": []
    },
    {
      "cell_type": "code",
      "source": "print(\"There are {} Relation derived.\".format(len(association_results)))",
      "metadata": {
        "trusted": true
      },
      "execution_count": null,
      "outputs": []
    },
    {
      "cell_type": "code",
      "source": "for i in range(0, len(association_results)):\n    print(association_results[i][0])",
      "metadata": {},
      "execution_count": null,
      "outputs": []
    },
    {
      "cell_type": "code",
      "source": "for item in association_results:\n    # first index of the inner list\n    # Contains base item and add item\n    pair = item[0]\n    items = [x for x in pair]\n    print(\"Rule: \" + items[0] + \" -> \" + items[1])\n\n    # second index of the inner list\n    print(\"Support: \" + str(item[1]))\n\n    # third index of the list located at 0th\n    # of the third index of the inner list\n\n    print(\"Confidence: \" + str(item[2][0][2]))\n    print(\"Lift: \" + str(item[2][0][3]))\n    print(\"=====================================\")",
      "metadata": {
        "trusted": true
      },
      "execution_count": null,
      "outputs": []
    },
    {
      "cell_type": "code",
      "source": "",
      "metadata": {},
      "execution_count": null,
      "outputs": []
    }
  ]
}